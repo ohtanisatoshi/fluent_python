{
 "cells": [
  {
   "cell_type": "code",
   "execution_count": 4,
   "metadata": {},
   "outputs": [
    {
     "name": "stdout",
     "output_type": "stream",
     "text": [
      "36722.3642892\n"
     ]
    }
   ],
   "source": [
    "import numpy as np\n",
    "\n",
    "def f(x):\n",
    "    return np.sin(np.pi * x)\n",
    "\n",
    "n = 10000\n",
    "answer = (np.prod([sum([1/n * (f(k/n)**m) for k in range(n-1)]) for m in range(1, 11)]) ** -1)\n",
    "print(answer)"
   ]
  },
  {
   "cell_type": "code",
   "execution_count": 5,
   "metadata": {},
   "outputs": [
    {
     "name": "stdout",
     "output_type": "stream",
     "text": [
      "36722.3621745\n"
     ]
    }
   ],
   "source": [
    "n = 1000000\n",
    "answer = (np.prod([sum([1/n * (f(k/n)**m) for k in range(n-1)]) for m in range(1, 11)]) ** -1)\n",
    "print(answer)"
   ]
  },
  {
   "cell_type": "code",
   "execution_count": 12,
   "metadata": {},
   "outputs": [
    {
     "name": "stdout",
     "output_type": "stream",
     "text": [
      "36722.3621742\n"
     ]
    }
   ],
   "source": [
    "from scipy.integrate import quad\n",
    "\n",
    "def f(x, m):\n",
    "    return np.sin(np.pi * x)**m\n",
    "\n",
    "product = np.prod( [quad(f, 0, 1, args=m)[0] for m in range(1, 11)] )\n",
    "result = 1 / product\n",
    "print(result)"
   ]
  },
  {
   "cell_type": "code",
   "execution_count": null,
   "metadata": {
    "collapsed": true
   },
   "outputs": [],
   "source": []
  }
 ],
 "metadata": {
  "kernelspec": {
   "display_name": "Python 3",
   "language": "python",
   "name": "python3"
  },
  "language_info": {
   "codemirror_mode": {
    "name": "ipython",
    "version": 3
   },
   "file_extension": ".py",
   "mimetype": "text/x-python",
   "name": "python",
   "nbconvert_exporter": "python",
   "pygments_lexer": "ipython3",
   "version": "3.6.1"
  }
 },
 "nbformat": 4,
 "nbformat_minor": 2
}
