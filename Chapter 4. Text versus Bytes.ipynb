{
 "cells": [
  {
   "cell_type": "code",
   "execution_count": 1,
   "metadata": {},
   "outputs": [
    {
     "name": "stdout",
     "output_type": "stream",
     "text": [
      "café\n",
      "4\n",
      "<class 'bytes'>\n",
      "<class 'str'>\n"
     ]
    }
   ],
   "source": [
    "s = 'café'\n",
    "print(s)\n",
    "print(len(s))\n",
    "sb = s.encode('utf-8')\n",
    "print(type(sb))\n",
    "print(type(sb.decode('utf-8')))"
   ]
  },
  {
   "cell_type": "code",
   "execution_count": 2,
   "metadata": {},
   "outputs": [
    {
     "name": "stdout",
     "output_type": "stream",
     "text": [
      "b'caf\\xc3\\xa9'\n",
      "99\n",
      "97\n",
      "102\n",
      "195\n",
      "169\n"
     ]
    }
   ],
   "source": [
    "### bytes type : immutable\n",
    "### bytearray type : mutable\n",
    "b = bytes('café', encoding='utf-8')\n",
    "print(b)\n",
    "for i in b:\n",
    "    print(i)"
   ]
  },
  {
   "cell_type": "code",
   "execution_count": 3,
   "metadata": {},
   "outputs": [
    {
     "name": "stdout",
     "output_type": "stream",
     "text": [
      "b'\\n\\t'\n"
     ]
    }
   ],
   "source": [
    "b = bytes('\\n\\t', encoding='utf-8')\n",
    "print(b)"
   ]
  },
  {
   "cell_type": "code",
   "execution_count": 4,
   "metadata": {},
   "outputs": [
    {
     "name": "stdout",
     "output_type": "stream",
     "text": [
      "b'GIF89a+\\x02\\xe6\\x00'\n"
     ]
    },
    {
     "data": {
      "text/plain": [
       "(b'GIF', b'89a', 555, 230)"
      ]
     },
     "execution_count": 4,
     "metadata": {},
     "output_type": "execute_result"
    }
   ],
   "source": [
    "import struct\n",
    "fmt = '<3s3sHH'\n",
    "b = bytes('GIF89a+', encoding='utf-8') + bytes.fromhex('02 e6 00')\n",
    "print(b)\n",
    "struct.unpack(fmt, b)"
   ]
  },
  {
   "cell_type": "code",
   "execution_count": 42,
   "metadata": {},
   "outputs": [
    {
     "name": "stdout",
     "output_type": "stream",
     "text": [
      "255\n",
      "254\n",
      "<class 'bytes'>\n",
      "<class 'str'>\n",
      "[255, 254, 39, 89, 55, 140, 97, 128, 32, 0, 143, 121, 161, 92, 12, 119, 39, 89, 206, 145, 206, 87, 2, 94, 87, 83, 76, 48, 24, 78, 17, 255, 18, 34, 18, 255, 22, 255, 18, 34, 17, 255, 20, 255]\n"
     ]
    }
   ],
   "source": [
    "a = '大谷聡 福岡県大野城市南が丘１−２６−１４'.encode('utf-16')\n",
    "b = a.decode('utf-16')\n",
    "print(a[0])\n",
    "print(a[1])\n",
    "print(type(a))\n",
    "print(type(b))\n",
    "print(list(a))"
   ]
  },
  {
   "cell_type": "code",
   "execution_count": 48,
   "metadata": {
    "collapsed": true
   },
   "outputs": [],
   "source": [
    "with open('utf-8.txt', 'w', encoding='utf-8') as fp:\n",
    "    fp.write('大谷聡')\n"
   ]
  },
  {
   "cell_type": "code",
   "execution_count": 50,
   "metadata": {},
   "outputs": [
    {
     "name": "stdout",
     "output_type": "stream",
     "text": [
      "大谷聡\n"
     ]
    }
   ],
   "source": [
    "with open('utf-8.txt', 'r', encoding='utf-8') as fp:\n",
    "    name = fp.read()\n",
    "print(name)"
   ]
  },
  {
   "cell_type": "code",
   "execution_count": 53,
   "metadata": {},
   "outputs": [
    {
     "name": "stdout",
     "output_type": "stream",
     "text": [
      "café\n",
      "café\n"
     ]
    }
   ],
   "source": [
    "s1 = 'café'\n",
    "s2 = 'cafe\\u0301'\n",
    "print(s1)\n",
    "print(s2)"
   ]
  },
  {
   "cell_type": "code",
   "execution_count": 61,
   "metadata": {},
   "outputs": [
    {
     "name": "stdout",
     "output_type": "stream",
     "text": [
      "4 5\n",
      "False\n",
      "4 4\n",
      "True\n",
      "5 5\n",
      "True\n"
     ]
    }
   ],
   "source": [
    "### unicode normalize\n",
    "from unicodedata import normalize\n",
    "print(len(s1), len(s2))\n",
    "print(s1 == s2)\n",
    "print(len(normalize('NFC', s1)), len(normalize('NFC', s2)))\n",
    "print(normalize('NFC', s1) == normalize('NFC', s2))\n",
    "print(len(normalize('NFD', s1)), len(normalize('NFD', s2)))\n",
    "print(normalize('NFD', s1) == normalize('NFD', s2))"
   ]
  },
  {
   "cell_type": "code",
   "execution_count": 68,
   "metadata": {},
   "outputs": [
    {
     "name": "stdout",
     "output_type": "stream",
     "text": [
      "Ω\n",
      "OHM SIGN\n",
      "Ω\n",
      "GREEK CAPITAL LETTER OMEGA\n"
     ]
    }
   ],
   "source": [
    "from unicodedata import name\n",
    "omega = '\\u2126'\n",
    "print(omega)\n",
    "print(name(omega))\n",
    "omega_norm = normalize('NFC', omega)\n",
    "print(omega_norm)\n",
    "print(name(omega_norm))"
   ]
  },
  {
   "cell_type": "code",
   "execution_count": 71,
   "metadata": {},
   "outputs": [
    {
     "name": "stdout",
     "output_type": "stream",
     "text": [
      "½\n",
      "½\n",
      "½\n",
      "1⁄2\n",
      "1⁄2\n"
     ]
    }
   ],
   "source": [
    "half = '\\u00BD'\n",
    "print(half)\n",
    "print(normalize('NFC', half))\n",
    "print(normalize('NFD', half))\n",
    "print(normalize('NFKC', half))\n",
    "print(normalize('NFKD', half))"
   ]
  },
  {
   "cell_type": "code",
   "execution_count": 74,
   "metadata": {},
   "outputs": [
    {
     "name": "stdout",
     "output_type": "stream",
     "text": [
      "['açaí', 'acerola', 'atemoia', 'cajá', 'caju']\n"
     ]
    }
   ],
   "source": [
    "import pyuca\n",
    "fruits = ['caju', 'atemoia', 'cajá', 'açaí', 'acerola']\n",
    "coll = pyuca.Collator()\n",
    "sorted_fruites = sorted(fruits, key=coll.sort_key)\n",
    "print(sorted_fruites)"
   ]
  },
  {
   "cell_type": "code",
   "execution_count": 75,
   "metadata": {},
   "outputs": [
    {
     "name": "stdout",
     "output_type": "stream",
     "text": [
      "utf-8\n"
     ]
    }
   ],
   "source": [
    "import sys\n",
    "print(sys.getfilesystemencoding())"
   ]
  },
  {
   "cell_type": "code",
   "execution_count": null,
   "metadata": {
    "collapsed": true
   },
   "outputs": [],
   "source": []
  }
 ],
 "metadata": {
  "kernelspec": {
   "display_name": "Python 3",
   "language": "python",
   "name": "python3"
  },
  "language_info": {
   "codemirror_mode": {
    "name": "ipython",
    "version": 3
   },
   "file_extension": ".py",
   "mimetype": "text/x-python",
   "name": "python",
   "nbconvert_exporter": "python",
   "pygments_lexer": "ipython3",
   "version": "3.6.2"
  }
 },
 "nbformat": 4,
 "nbformat_minor": 2
}
