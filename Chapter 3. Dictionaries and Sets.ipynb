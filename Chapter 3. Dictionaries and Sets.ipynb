{
 "cells": [
  {
   "cell_type": "code",
   "execution_count": 14,
   "metadata": {},
   "outputs": [
    {
     "name": "stdout",
     "output_type": "stream",
     "text": [
      "8027212646858338501\n",
      "-4118419923444501110\n"
     ]
    }
   ],
   "source": [
    "### What is hashable\n",
    "tt = (1, 2, (30, 40))\n",
    "print(hash(tt))\n",
    "tl = (1, 2, [30, 40])\n",
    "#print(hash(tl))\n",
    "tf = (1, 2, frozenset([30, 40]))\n",
    "print(hash(tf))"
   ]
  },
  {
   "cell_type": "code",
   "execution_count": 17,
   "metadata": {},
   "outputs": [
    {
     "name": "stdout",
     "output_type": "stream",
     "text": [
      "{'one': 1, 'two': 2, 'three': 3}\n",
      "{'one': 1, 'two': 2, 'three': 3}\n"
     ]
    }
   ],
   "source": [
    "a = dict(one=1, two=2, three=3)\n",
    "print(a)\n",
    "b = {'one': 1, 'two': 2, 'three': 3}\n",
    "print(b)"
   ]
  },
  {
   "cell_type": "code",
   "execution_count": 27,
   "metadata": {},
   "outputs": [
    {
     "name": "stdout",
     "output_type": "stream",
     "text": [
      "OrderedDict([('1', 'one'), ('3', 'three'), ('2', 'two')])\n",
      "('2', 'two')\n"
     ]
    }
   ],
   "source": [
    "from collections import OrderedDict\n",
    "a = OrderedDict([('1', 'one'), ('3', 'three'), ('2', 'two')])\n",
    "print(a)\n",
    "print(a.popitem(last=True))"
   ]
  },
  {
   "cell_type": "code",
   "execution_count": 32,
   "metadata": {},
   "outputs": [
    {
     "name": "stdout",
     "output_type": "stream",
     "text": [
      "Counter({'car': 2, 'bike': 1})\n",
      "Counter({'car': 4, 'bike': 2})\n"
     ]
    }
   ],
   "source": [
    "from collections import Counter\n",
    "ct = Counter(['car', 'bike', 'car'])\n",
    "print(ct)\n",
    "ct.update(['car', 'car', 'bike'])\n",
    "print(ct)"
   ]
  },
  {
   "cell_type": "code",
   "execution_count": 33,
   "metadata": {},
   "outputs": [
    {
     "name": "stdout",
     "output_type": "stream",
     "text": [
      "{'bike', 'car'}\n"
     ]
    }
   ],
   "source": [
    "print(set(['car', 'bike', 'car']))"
   ]
  },
  {
   "cell_type": "code",
   "execution_count": 40,
   "metadata": {},
   "outputs": [
    {
     "name": "stdout",
     "output_type": "stream",
     "text": [
      "{'b', 'a'}\n",
      "{'b', 'a'}\n",
      "{'d', 'z', 'b', 'e', 'y', 'a', 'c', 'x'}\n",
      "{'d', 'e', 'c'}\n"
     ]
    }
   ],
   "source": [
    "a = ['a', 'b', 'c', 'd', 'e']\n",
    "b = ['a', 'y', 'x', 'b', 'z']\n",
    "print(set(a) & set(b))\n",
    "print(set(a).intersection(b))\n",
    "print(set(a) | set(b))\n",
    "print(set(a) - set(b))"
   ]
  },
  {
   "cell_type": "code",
   "execution_count": 43,
   "metadata": {},
   "outputs": [
    {
     "name": "stdout",
     "output_type": "stream",
     "text": [
      "<class 'set'> {'d', 'b', 'e', 'a', 'c'}\n",
      "<class 'set'> {'z', 'b', 'y', 'a', 'x'}\n"
     ]
    }
   ],
   "source": [
    "a = set(['a', 'b', 'c', 'd', 'e'])\n",
    "b = {'a', 'y', 'x', 'b', 'z'}\n",
    "print(type(a), a)\n",
    "print(type(b), b)"
   ]
  },
  {
   "cell_type": "code",
   "execution_count": 46,
   "metadata": {},
   "outputs": [
    {
     "name": "stdout",
     "output_type": "stream",
     "text": [
      "### a = {1}\n",
      "  1           0 LOAD_CONST               0 (1)\n",
      "              2 BUILD_SET                1\n",
      "              4 RETURN_VALUE\n",
      "### a = set([1])\n",
      "  1           0 LOAD_NAME                0 (set)\n",
      "              2 LOAD_CONST               0 (1)\n",
      "              4 BUILD_LIST               1\n",
      "              6 CALL_FUNCTION            1\n",
      "              8 RETURN_VALUE\n"
     ]
    }
   ],
   "source": [
    "from dis import dis\n",
    "print('### a = {1}')\n",
    "dis('{1}')\n",
    "print('### a = set([1])')\n",
    "dis('set([1])')"
   ]
  },
  {
   "cell_type": "code",
   "execution_count": 47,
   "metadata": {},
   "outputs": [
    {
     "name": "stdout",
     "output_type": "stream",
     "text": [
      "SPACE\n",
      "EXCLAMATION MARK\n",
      "QUOTATION MARK\n",
      "NUMBER SIGN\n",
      "DOLLAR SIGN\n",
      "PERCENT SIGN\n",
      "AMPERSAND\n",
      "APOSTROPHE\n",
      "LEFT PARENTHESIS\n",
      "RIGHT PARENTHESIS\n",
      "ASTERISK\n",
      "PLUS SIGN\n",
      "COMMA\n",
      "HYPHEN-MINUS\n",
      "FULL STOP\n",
      "SOLIDUS\n",
      "DIGIT ZERO\n",
      "DIGIT ONE\n",
      "DIGIT TWO\n",
      "DIGIT THREE\n",
      "DIGIT FOUR\n",
      "DIGIT FIVE\n",
      "DIGIT SIX\n",
      "DIGIT SEVEN\n",
      "DIGIT EIGHT\n",
      "DIGIT NINE\n",
      "COLON\n",
      "SEMICOLON\n",
      "LESS-THAN SIGN\n",
      "EQUALS SIGN\n",
      "GREATER-THAN SIGN\n",
      "QUESTION MARK\n",
      "COMMERCIAL AT\n",
      "LATIN CAPITAL LETTER A\n",
      "LATIN CAPITAL LETTER B\n",
      "LATIN CAPITAL LETTER C\n",
      "LATIN CAPITAL LETTER D\n",
      "LATIN CAPITAL LETTER E\n",
      "LATIN CAPITAL LETTER F\n",
      "LATIN CAPITAL LETTER G\n",
      "LATIN CAPITAL LETTER H\n",
      "LATIN CAPITAL LETTER I\n",
      "LATIN CAPITAL LETTER J\n",
      "LATIN CAPITAL LETTER K\n",
      "LATIN CAPITAL LETTER L\n",
      "LATIN CAPITAL LETTER M\n",
      "LATIN CAPITAL LETTER N\n",
      "LATIN CAPITAL LETTER O\n",
      "LATIN CAPITAL LETTER P\n",
      "LATIN CAPITAL LETTER Q\n",
      "LATIN CAPITAL LETTER R\n",
      "LATIN CAPITAL LETTER S\n",
      "LATIN CAPITAL LETTER T\n",
      "LATIN CAPITAL LETTER U\n",
      "LATIN CAPITAL LETTER V\n",
      "LATIN CAPITAL LETTER W\n",
      "LATIN CAPITAL LETTER X\n",
      "LATIN CAPITAL LETTER Y\n",
      "LATIN CAPITAL LETTER Z\n",
      "LEFT SQUARE BRACKET\n",
      "REVERSE SOLIDUS\n",
      "RIGHT SQUARE BRACKET\n",
      "CIRCUMFLEX ACCENT\n",
      "LOW LINE\n",
      "GRAVE ACCENT\n",
      "LATIN SMALL LETTER A\n",
      "LATIN SMALL LETTER B\n",
      "LATIN SMALL LETTER C\n",
      "LATIN SMALL LETTER D\n",
      "LATIN SMALL LETTER E\n",
      "LATIN SMALL LETTER F\n",
      "LATIN SMALL LETTER G\n",
      "LATIN SMALL LETTER H\n",
      "LATIN SMALL LETTER I\n",
      "LATIN SMALL LETTER J\n",
      "LATIN SMALL LETTER K\n",
      "LATIN SMALL LETTER L\n",
      "LATIN SMALL LETTER M\n",
      "LATIN SMALL LETTER N\n",
      "LATIN SMALL LETTER O\n",
      "LATIN SMALL LETTER P\n",
      "LATIN SMALL LETTER Q\n",
      "LATIN SMALL LETTER R\n",
      "LATIN SMALL LETTER S\n",
      "LATIN SMALL LETTER T\n",
      "LATIN SMALL LETTER U\n",
      "LATIN SMALL LETTER V\n",
      "LATIN SMALL LETTER W\n",
      "LATIN SMALL LETTER X\n",
      "LATIN SMALL LETTER Y\n",
      "LATIN SMALL LETTER Z\n",
      "LEFT CURLY BRACKET\n",
      "VERTICAL LINE\n",
      "RIGHT CURLY BRACKET\n",
      "TILDE\n",
      "\n",
      "\n",
      "\n",
      "\n",
      "\n",
      "\n",
      "\n",
      "\n",
      "\n",
      "\n",
      "\n",
      "\n",
      "\n",
      "\n",
      "\n",
      "\n",
      "\n",
      "\n",
      "\n",
      "\n",
      "\n",
      "\n",
      "\n",
      "\n",
      "\n",
      "\n",
      "\n",
      "\n",
      "\n",
      "\n",
      "\n",
      "\n",
      "\n",
      "NO-BREAK SPACE\n",
      "INVERTED EXCLAMATION MARK\n",
      "CENT SIGN\n",
      "POUND SIGN\n",
      "CURRENCY SIGN\n",
      "YEN SIGN\n",
      "BROKEN BAR\n",
      "SECTION SIGN\n",
      "DIAERESIS\n",
      "COPYRIGHT SIGN\n",
      "FEMININE ORDINAL INDICATOR\n",
      "LEFT-POINTING DOUBLE ANGLE QUOTATION MARK\n",
      "NOT SIGN\n",
      "SOFT HYPHEN\n",
      "REGISTERED SIGN\n",
      "MACRON\n",
      "DEGREE SIGN\n",
      "PLUS-MINUS SIGN\n",
      "SUPERSCRIPT TWO\n",
      "SUPERSCRIPT THREE\n",
      "ACUTE ACCENT\n",
      "MICRO SIGN\n",
      "PILCROW SIGN\n",
      "MIDDLE DOT\n",
      "CEDILLA\n",
      "SUPERSCRIPT ONE\n",
      "MASCULINE ORDINAL INDICATOR\n",
      "RIGHT-POINTING DOUBLE ANGLE QUOTATION MARK\n",
      "VULGAR FRACTION ONE QUARTER\n",
      "VULGAR FRACTION ONE HALF\n",
      "VULGAR FRACTION THREE QUARTERS\n",
      "INVERTED QUESTION MARK\n",
      "LATIN CAPITAL LETTER A WITH GRAVE\n",
      "LATIN CAPITAL LETTER A WITH ACUTE\n",
      "LATIN CAPITAL LETTER A WITH CIRCUMFLEX\n",
      "LATIN CAPITAL LETTER A WITH TILDE\n",
      "LATIN CAPITAL LETTER A WITH DIAERESIS\n",
      "LATIN CAPITAL LETTER A WITH RING ABOVE\n",
      "LATIN CAPITAL LETTER AE\n",
      "LATIN CAPITAL LETTER C WITH CEDILLA\n",
      "LATIN CAPITAL LETTER E WITH GRAVE\n",
      "LATIN CAPITAL LETTER E WITH ACUTE\n",
      "LATIN CAPITAL LETTER E WITH CIRCUMFLEX\n",
      "LATIN CAPITAL LETTER E WITH DIAERESIS\n",
      "LATIN CAPITAL LETTER I WITH GRAVE\n",
      "LATIN CAPITAL LETTER I WITH ACUTE\n",
      "LATIN CAPITAL LETTER I WITH CIRCUMFLEX\n",
      "LATIN CAPITAL LETTER I WITH DIAERESIS\n",
      "LATIN CAPITAL LETTER ETH\n",
      "LATIN CAPITAL LETTER N WITH TILDE\n",
      "LATIN CAPITAL LETTER O WITH GRAVE\n",
      "LATIN CAPITAL LETTER O WITH ACUTE\n",
      "LATIN CAPITAL LETTER O WITH CIRCUMFLEX\n",
      "LATIN CAPITAL LETTER O WITH TILDE\n",
      "LATIN CAPITAL LETTER O WITH DIAERESIS\n",
      "MULTIPLICATION SIGN\n",
      "LATIN CAPITAL LETTER O WITH STROKE\n",
      "LATIN CAPITAL LETTER U WITH GRAVE\n",
      "LATIN CAPITAL LETTER U WITH ACUTE\n",
      "LATIN CAPITAL LETTER U WITH CIRCUMFLEX\n",
      "LATIN CAPITAL LETTER U WITH DIAERESIS\n",
      "LATIN CAPITAL LETTER Y WITH ACUTE\n",
      "LATIN CAPITAL LETTER THORN\n",
      "LATIN SMALL LETTER SHARP S\n",
      "LATIN SMALL LETTER A WITH GRAVE\n",
      "LATIN SMALL LETTER A WITH ACUTE\n",
      "LATIN SMALL LETTER A WITH CIRCUMFLEX\n",
      "LATIN SMALL LETTER A WITH TILDE\n",
      "LATIN SMALL LETTER A WITH DIAERESIS\n",
      "LATIN SMALL LETTER A WITH RING ABOVE\n",
      "LATIN SMALL LETTER AE\n",
      "LATIN SMALL LETTER C WITH CEDILLA\n",
      "LATIN SMALL LETTER E WITH GRAVE\n",
      "LATIN SMALL LETTER E WITH ACUTE\n",
      "LATIN SMALL LETTER E WITH CIRCUMFLEX\n",
      "LATIN SMALL LETTER E WITH DIAERESIS\n",
      "LATIN SMALL LETTER I WITH GRAVE\n",
      "LATIN SMALL LETTER I WITH ACUTE\n",
      "LATIN SMALL LETTER I WITH CIRCUMFLEX\n",
      "LATIN SMALL LETTER I WITH DIAERESIS\n",
      "LATIN SMALL LETTER ETH\n",
      "LATIN SMALL LETTER N WITH TILDE\n",
      "LATIN SMALL LETTER O WITH GRAVE\n",
      "LATIN SMALL LETTER O WITH ACUTE\n",
      "LATIN SMALL LETTER O WITH CIRCUMFLEX\n",
      "LATIN SMALL LETTER O WITH TILDE\n",
      "LATIN SMALL LETTER O WITH DIAERESIS\n",
      "DIVISION SIGN\n",
      "LATIN SMALL LETTER O WITH STROKE\n",
      "LATIN SMALL LETTER U WITH GRAVE\n",
      "LATIN SMALL LETTER U WITH ACUTE\n",
      "LATIN SMALL LETTER U WITH CIRCUMFLEX\n",
      "LATIN SMALL LETTER U WITH DIAERESIS\n",
      "LATIN SMALL LETTER Y WITH ACUTE\n",
      "LATIN SMALL LETTER THORN\n",
      "LATIN SMALL LETTER Y WITH DIAERESIS\n"
     ]
    }
   ],
   "source": [
    "from unicodedata import name\n",
    "for i in range(32, 256):\n",
    "    print(name(chr(i), ''))"
   ]
  },
  {
   "cell_type": "code",
   "execution_count": 51,
   "metadata": {},
   "outputs": [
    {
     "name": "stdout",
     "output_type": "stream",
     "text": [
      "{'<', '͇', '̠', '˖', '͵', '$', '#', '̟', '©', '×', '±', '%', '¬', '¤', '§', '£', '¢', '÷', 'µ', '°', '¶', '+', '˗', '¥', '®', '=', 'ʹ', '>'}\n"
     ]
    }
   ],
   "source": [
    "a = {chr(i) for i in range(32, 1024) if 'SIGN' in name(chr(i), '')}\n",
    "print(a)"
   ]
  },
  {
   "cell_type": "code",
   "execution_count": 52,
   "metadata": {},
   "outputs": [
    {
     "data": {
      "text/plain": [
       "-6408852091704515069"
      ]
     },
     "execution_count": 52,
     "metadata": {},
     "output_type": "execute_result"
    }
   ],
   "source": [
    "hash('ohtanisatoshi')"
   ]
  },
  {
   "cell_type": "code",
   "execution_count": null,
   "metadata": {
    "collapsed": true
   },
   "outputs": [],
   "source": []
  }
 ],
 "metadata": {
  "kernelspec": {
   "display_name": "Python 3",
   "language": "python",
   "name": "python3"
  },
  "language_info": {
   "codemirror_mode": {
    "name": "ipython",
    "version": 3
   },
   "file_extension": ".py",
   "mimetype": "text/x-python",
   "name": "python",
   "nbconvert_exporter": "python",
   "pygments_lexer": "ipython3",
   "version": "3.6.1"
  }
 },
 "nbformat": 4,
 "nbformat_minor": 2
}
